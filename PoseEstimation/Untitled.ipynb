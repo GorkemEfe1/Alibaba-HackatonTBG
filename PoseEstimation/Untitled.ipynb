{
 "cells": [
  {
   "cell_type": "code",
   "execution_count": 11,
   "id": "4c33c955-f214-4712-995f-9b59d62ea1a9",
   "metadata": {
    "execution": {
     "iopub.execute_input": "2024-05-26T00:55:37.133773Z",
     "iopub.status.busy": "2024-05-26T00:55:37.133188Z",
     "iopub.status.idle": "2024-05-26T00:55:40.719816Z",
     "shell.execute_reply": "2024-05-26T00:55:40.718985Z",
     "shell.execute_reply.started": "2024-05-26T00:55:37.133749Z"
    },
    "tags": []
   },
   "outputs": [
    {
     "name": "stdout",
     "output_type": "stream",
     "text": [
      "Looking in indexes: https://mirrors.cloud.aliyuncs.com/pypi/simple\n",
      "Requirement already satisfied: ultralytics in /home/pai/lib/python3.11/site-packages (8.2.21)\n",
      "Requirement already satisfied: matplotlib>=3.3.0 in /home/pai/lib/python3.11/site-packages (from ultralytics) (3.8.2)\n",
      "Requirement already satisfied: opencv-python>=4.6.0 in /home/pai/lib/python3.11/site-packages (from ultralytics) (4.6.0.66)\n",
      "Requirement already satisfied: pillow>=7.1.2 in /home/pai/lib/python3.11/site-packages (from ultralytics) (10.2.0)\n",
      "Requirement already satisfied: pyyaml>=5.3.1 in /home/pai/lib/python3.11/site-packages (from ultralytics) (6.0.1)\n",
      "Requirement already satisfied: requests>=2.23.0 in /home/pai/lib/python3.11/site-packages (from ultralytics) (2.31.0)\n",
      "Requirement already satisfied: scipy>=1.4.1 in /home/pai/lib/python3.11/site-packages (from ultralytics) (1.11.4)\n",
      "Requirement already satisfied: torch>=1.8.0 in /home/pai/lib/python3.11/site-packages (from ultralytics) (2.1.0+cu118)\n",
      "Requirement already satisfied: torchvision>=0.9.0 in /home/pai/lib/python3.11/site-packages (from ultralytics) (0.16.0+cu118)\n",
      "Requirement already satisfied: tqdm>=4.64.0 in /home/pai/lib/python3.11/site-packages (from ultralytics) (4.66.1)\n",
      "Requirement already satisfied: psutil in /home/pai/lib/python3.11/site-packages (from ultralytics) (5.9.7)\n",
      "Requirement already satisfied: py-cpuinfo in /home/pai/lib/python3.11/site-packages (from ultralytics) (9.0.0)\n",
      "Requirement already satisfied: thop>=0.1.1 in /home/pai/lib/python3.11/site-packages (from ultralytics) (0.1.1.post2209072238)\n",
      "Requirement already satisfied: pandas>=1.1.4 in /home/pai/lib/python3.11/site-packages (from ultralytics) (2.1.4)\n",
      "Requirement already satisfied: seaborn>=0.11.0 in /home/pai/lib/python3.11/site-packages (from ultralytics) (0.13.0)\n",
      "Requirement already satisfied: contourpy>=1.0.1 in /home/pai/lib/python3.11/site-packages (from matplotlib>=3.3.0->ultralytics) (1.2.0)\n",
      "Requirement already satisfied: cycler>=0.10 in /home/pai/lib/python3.11/site-packages (from matplotlib>=3.3.0->ultralytics) (0.12.1)\n",
      "Requirement already satisfied: fonttools>=4.22.0 in /home/pai/lib/python3.11/site-packages (from matplotlib>=3.3.0->ultralytics) (4.47.0)\n",
      "Requirement already satisfied: kiwisolver>=1.3.1 in /home/pai/lib/python3.11/site-packages (from matplotlib>=3.3.0->ultralytics) (1.4.5)\n",
      "Requirement already satisfied: numpy<2,>=1.21 in /home/pai/lib/python3.11/site-packages (from matplotlib>=3.3.0->ultralytics) (1.26.2)\n",
      "Requirement already satisfied: packaging>=20.0 in /home/pai/lib/python3.11/site-packages (from matplotlib>=3.3.0->ultralytics) (23.1)\n",
      "Requirement already satisfied: pyparsing>=2.3.1 in /home/pai/lib/python3.11/site-packages (from matplotlib>=3.3.0->ultralytics) (3.1.1)\n",
      "Requirement already satisfied: python-dateutil>=2.7 in /home/pai/lib/python3.11/site-packages (from matplotlib>=3.3.0->ultralytics) (2.8.2)\n",
      "Requirement already satisfied: pytz>=2020.1 in /home/pai/lib/python3.11/site-packages (from pandas>=1.1.4->ultralytics) (2023.3.post1)\n",
      "Requirement already satisfied: tzdata>=2022.1 in /home/pai/lib/python3.11/site-packages (from pandas>=1.1.4->ultralytics) (2023.3)\n",
      "Requirement already satisfied: charset-normalizer<4,>=2 in /home/pai/lib/python3.11/site-packages (from requests>=2.23.0->ultralytics) (2.0.4)\n",
      "Requirement already satisfied: idna<4,>=2.5 in /home/pai/lib/python3.11/site-packages (from requests>=2.23.0->ultralytics) (3.4)\n",
      "Requirement already satisfied: urllib3<3,>=1.21.1 in /home/pai/lib/python3.11/site-packages (from requests>=2.23.0->ultralytics) (1.26.16)\n",
      "Requirement already satisfied: certifi>=2017.4.17 in /home/pai/lib/python3.11/site-packages (from requests>=2.23.0->ultralytics) (2023.11.17)\n",
      "Requirement already satisfied: filelock in /home/pai/lib/python3.11/site-packages (from torch>=1.8.0->ultralytics) (3.13.1)\n",
      "Requirement already satisfied: typing-extensions in /home/pai/lib/python3.11/site-packages (from torch>=1.8.0->ultralytics) (4.9.0)\n",
      "Requirement already satisfied: sympy in /home/pai/lib/python3.11/site-packages (from torch>=1.8.0->ultralytics) (1.12)\n",
      "Requirement already satisfied: networkx in /home/pai/lib/python3.11/site-packages (from torch>=1.8.0->ultralytics) (3.2.1)\n",
      "Requirement already satisfied: jinja2 in /home/pai/lib/python3.11/site-packages (from torch>=1.8.0->ultralytics) (3.1.2)\n",
      "Requirement already satisfied: fsspec in /home/pai/lib/python3.11/site-packages (from torch>=1.8.0->ultralytics) (2023.12.2)\n",
      "Requirement already satisfied: triton==2.1.0 in /home/pai/lib/python3.11/site-packages (from torch>=1.8.0->ultralytics) (2.1.0)\n",
      "Requirement already satisfied: six>=1.5 in /home/pai/lib/python3.11/site-packages (from python-dateutil>=2.7->matplotlib>=3.3.0->ultralytics) (1.16.0)\n",
      "Requirement already satisfied: MarkupSafe>=2.0 in /home/pai/lib/python3.11/site-packages (from jinja2->torch>=1.8.0->ultralytics) (2.1.3)\n",
      "Requirement already satisfied: mpmath>=0.19 in /home/pai/lib/python3.11/site-packages (from sympy->torch>=1.8.0->ultralytics) (1.3.0)\n",
      "\u001b[33mWARNING: Running pip as the 'root' user can result in broken permissions and conflicting behaviour with the system package manager. It is recommended to use a virtual environment instead: https://pip.pypa.io/warnings/venv\u001b[0m\u001b[33m\n",
      "\u001b[0m"
     ]
    }
   ],
   "source": [
    "!pip install ultralytics"
   ]
  },
  {
   "cell_type": "code",
   "execution_count": 42,
   "id": "8d3fbd0d-9807-479b-8116-ae7329731ecb",
   "metadata": {
    "ExecutionIndicator": {
     "show": true
    },
    "execution": {
     "iopub.execute_input": "2024-05-26T08:17:57.399402Z",
     "iopub.status.busy": "2024-05-26T08:17:57.398806Z",
     "iopub.status.idle": "2024-05-26T08:17:57.402835Z",
     "shell.execute_reply": "2024-05-26T08:17:57.402153Z",
     "shell.execute_reply.started": "2024-05-26T08:17:57.399379Z"
    },
    "tags": []
   },
   "outputs": [],
   "source": [
    "import torch\n",
    "from ultralytics import YOLO\n",
    "import cv2\n",
    "import pickle\n",
    "import pandas as pd\n",
    "import numpy as np"
   ]
  },
  {
   "cell_type": "code",
   "execution_count": 43,
   "id": "ffed9355-a04d-44be-aea0-e972bee90c86",
   "metadata": {
    "execution": {
     "iopub.execute_input": "2024-05-26T08:17:57.623999Z",
     "iopub.status.busy": "2024-05-26T08:17:57.623553Z",
     "iopub.status.idle": "2024-05-26T08:17:57.699525Z",
     "shell.execute_reply": "2024-05-26T08:17:57.698730Z",
     "shell.execute_reply.started": "2024-05-26T08:17:57.623978Z"
    },
    "tags": []
   },
   "outputs": [],
   "source": [
    "model = YOLO(\"yolov8m-pose.pt\")"
   ]
  },
  {
   "cell_type": "code",
   "execution_count": 44,
   "id": "ed35524e-b1be-4d58-b10a-87d0fef0c199",
   "metadata": {
    "execution": {
     "iopub.execute_input": "2024-05-26T08:17:58.152227Z",
     "iopub.status.busy": "2024-05-26T08:17:58.151922Z",
     "iopub.status.idle": "2024-05-26T08:17:58.305595Z",
     "shell.execute_reply": "2024-05-26T08:17:58.304935Z",
     "shell.execute_reply.started": "2024-05-26T08:17:58.152191Z"
    },
    "tags": []
   },
   "outputs": [
    {
     "name": "stdout",
     "output_type": "stream",
     "text": [
      "YOLOv8m-pose summary: 320 layers, 26464462 parameters, 0 gradients, 81.4 GFLOPs\n"
     ]
    },
    {
     "data": {
      "text/plain": [
       "(320, 26464462, 0, 81.4129872)"
      ]
     },
     "execution_count": 44,
     "metadata": {},
     "output_type": "execute_result"
    }
   ],
   "source": [
    "model.info()"
   ]
  },
  {
   "cell_type": "code",
   "execution_count": 45,
   "id": "5b061859-9654-40be-b566-2803796d2224",
   "metadata": {
    "execution": {
     "iopub.execute_input": "2024-05-26T08:17:59.031975Z",
     "iopub.status.busy": "2024-05-26T08:17:59.031536Z",
     "iopub.status.idle": "2024-05-26T08:17:59.035149Z",
     "shell.execute_reply": "2024-05-26T08:17:59.034497Z",
     "shell.execute_reply.started": "2024-05-26T08:17:59.031952Z"
    },
    "tags": []
   },
   "outputs": [],
   "source": [
    "import glob"
   ]
  },
  {
   "cell_type": "code",
   "execution_count": 49,
   "id": "5ed740fa-bfbf-4957-a024-db207da44c92",
   "metadata": {
    "ExecutionIndicator": {
     "show": false
    },
    "execution": {
     "iopub.execute_input": "2024-05-26T08:23:33.259270Z",
     "iopub.status.busy": "2024-05-26T08:23:33.258671Z",
     "iopub.status.idle": "2024-05-26T08:23:40.346412Z",
     "shell.execute_reply": "2024-05-26T08:23:40.345676Z",
     "shell.execute_reply.started": "2024-05-26T08:23:33.259245Z"
    },
    "tags": []
   },
   "outputs": [
    {
     "name": "stdout",
     "output_type": "stream",
     "text": [
      "\n",
      "0: 640x480 2 persons, 12.0ms\n",
      "1: 640x480 2 persons, 12.0ms\n",
      "2: 640x480 2 persons, 12.0ms\n",
      "3: 640x480 2 persons, 12.0ms\n",
      "4: 640x480 3 persons, 12.0ms\n",
      "5: 640x480 2 persons, 12.0ms\n",
      "6: 640x480 2 persons, 12.0ms\n",
      "7: 640x480 2 persons, 12.0ms\n",
      "8: 640x480 2 persons, 12.0ms\n",
      "Speed: 3.1ms preprocess, 12.0ms inference, 1.4ms postprocess per image at shape (1, 3, 640, 480)\n",
      "(73304, 35)\n",
      "(73304, 35)\n",
      "(73304, 35)\n",
      "(73304, 35)\n",
      "(73304, 35)\n",
      "(73304, 35)\n",
      "(73304, 35)\n",
      "(73304, 35)\n",
      "(73304, 35)\n"
     ]
    }
   ],
   "source": [
    "images = glob.glob(\"./*.jpg\")\n",
    "results = model(images)\n",
    "for i, result in enumerate(results):\n",
    "    # Load the dataset\n",
    "    df = pd.read_csv(\"./keypoints.csv\")\n",
    "    # Get the keypoints from the result\n",
    "    new_data_tensor = result.keypoints[0].xyn\n",
    "    result.save(filename=f\"result{i}.jpg\")"
   ]
  },
  {
   "cell_type": "code",
   "execution_count": null,
   "id": "fa4a38a8-d0fb-48b8-9d6c-e8b48b18a117",
   "metadata": {},
   "outputs": [],
   "source": []
  }
 ],
 "metadata": {
  "kernelspec": {
   "display_name": "Python 3 (ipykernel)",
   "language": "python",
   "name": "python3"
  },
  "language_info": {
   "codemirror_mode": {
    "name": "ipython",
    "version": 3
   },
   "file_extension": ".py",
   "mimetype": "text/x-python",
   "name": "python",
   "nbconvert_exporter": "python",
   "pygments_lexer": "ipython3",
   "version": "3.11.5"
  }
 },
 "nbformat": 4,
 "nbformat_minor": 5
}
